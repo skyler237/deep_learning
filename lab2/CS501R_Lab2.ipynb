{
  "nbformat": 4,
  "nbformat_minor": 0,
  "metadata": {
    "colab": {
      "name": "CS501R Lab2.ipynb",
      "version": "0.3.2",
      "provenance": [],
      "collapsed_sections": [],
      "include_colab_link": true
    },
    "kernelspec": {
      "name": "python3",
      "display_name": "Python 3"
    },
    "accelerator": "GPU"
  },
  "cells": [
    {
      "cell_type": "markdown",
      "metadata": {
        "id": "view-in-github",
        "colab_type": "text"
      },
      "source": [
        "[View in Colaboratory](https://colab.research.google.com/github/skyler237/deep_learning/blob/master/lab2/CS501R_Lab2.ipynb)"
      ]
    },
    {
      "metadata": {
        "id": "MZ-MSagXhdBK",
        "colab_type": "code",
        "colab": {
          "base_uri": "https://localhost:8080/",
          "height": 394
        },
        "outputId": "47a4f37f-a5d8-4e69-9dfb-9214118625be"
      },
      "cell_type": "code",
      "source": [
        "!pip3 install torch\n",
        "!pip3 install torchvision\n",
        "!pip3 install tqdm\n"
      ],
      "execution_count": 1,
      "outputs": [
        {
          "output_type": "stream",
          "text": [
            "Collecting torch\n",
            "\u001b[?25l  Downloading https://files.pythonhosted.org/packages/49/0e/e382bcf1a6ae8225f50b99cc26effa2d4cc6d66975ccf3fa9590efcbedce/torch-0.4.1-cp36-cp36m-manylinux1_x86_64.whl (519.5MB)\n",
            "\u001b[K    100% |████████████████████████████████| 519.5MB 31kB/s \n",
            "tcmalloc: large alloc 1073750016 bytes == 0x59e3a000 @  0x7fd9ed5b91c4 0x46d6a4 0x5fcbcc 0x4c494d 0x54f3c4 0x553aaf 0x54e4c8 0x54f4f6 0x553aaf 0x54efc1 0x54f24d 0x553aaf 0x54efc1 0x54f24d 0x553aaf 0x54efc1 0x54f24d 0x551ee0 0x54e4c8 0x54f4f6 0x553aaf 0x54efc1 0x54f24d 0x551ee0 0x54efc1 0x54f24d 0x551ee0 0x54e4c8 0x54f4f6 0x553aaf 0x54e4c8\n",
            "\u001b[?25hInstalling collected packages: torch\n",
            "Successfully installed torch-0.4.1\n",
            "Collecting torchvision\n",
            "\u001b[?25l  Downloading https://files.pythonhosted.org/packages/ca/0d/f00b2885711e08bd71242ebe7b96561e6f6d01fdb4b9dcf4d37e2e13c5e1/torchvision-0.2.1-py2.py3-none-any.whl (54kB)\n",
            "\u001b[K    100% |████████████████████████████████| 61kB 2.6MB/s \n",
            "\u001b[?25hRequirement already satisfied: six in /usr/local/lib/python3.6/dist-packages (from torchvision) (1.11.0)\n",
            "Collecting pillow>=4.1.1 (from torchvision)\n",
            "\u001b[?25l  Downloading https://files.pythonhosted.org/packages/d1/24/f53ff6b61b3d728b90934bddb4f03f8ab584a7f49299bf3bde56e2952612/Pillow-5.2.0-cp36-cp36m-manylinux1_x86_64.whl (2.0MB)\n",
            "\u001b[K    100% |████████████████████████████████| 2.0MB 8.4MB/s \n",
            "\u001b[?25hRequirement already satisfied: numpy in /usr/local/lib/python3.6/dist-packages (from torchvision) (1.14.5)\n",
            "Requirement already satisfied: torch in /usr/local/lib/python3.6/dist-packages (from torchvision) (0.4.1)\n",
            "Installing collected packages: pillow, torchvision\n",
            "  Found existing installation: Pillow 4.0.0\n",
            "    Uninstalling Pillow-4.0.0:\n",
            "      Successfully uninstalled Pillow-4.0.0\n",
            "Successfully installed pillow-5.2.0 torchvision-0.2.1\n",
            "Requirement already satisfied: tqdm in /usr/local/lib/python3.6/dist-packages (4.26.0)\n"
          ],
          "name": "stdout"
        }
      ]
    },
    {
      "metadata": {
        "id": "qxjCqtuhhyh9",
        "colab_type": "code",
        "colab": {}
      },
      "cell_type": "code",
      "source": [
        "import torch\n",
        "import torch.nn as nn\n",
        "import torch.nn.functional as F\n",
        "import torch.optim as optim\n",
        "from torch.utils.data import Dataset, DataLoader\n",
        "import numpy as np\n",
        "import matplotlib.pyplot as plt\n",
        "from torchvision import transforms, utils, datasets\n",
        "from tqdm import tqdm\n",
        " \n",
        "assert torch.cuda.is_available() # You need to request a GPU from Runtime > Change Runtime Type"
      ],
      "execution_count": 0,
      "outputs": []
    },
    {
      "metadata": {
        "id": "Bwj4TrG1h8eL",
        "colab_type": "code",
        "colab": {
          "base_uri": "https://localhost:8080/",
          "height": 418
        },
        "outputId": "fb8a2deb-9188-44c3-b616-5c42e477290e"
      },
      "cell_type": "code",
      "source": [
        "class MyNetwork(nn.Module):\n",
        "  def __init__(self, dataset):\n",
        "    super().__init__()\n",
        "    x, y = dataset[0]\n",
        "    channels, height, width = x.size()\n",
        "    output_size = y.size(0)\n",
        "    hidden_size = 2*output_size\n",
        "    \n",
        "    self.model = nn.Sequential(\n",
        "        nn.Linear(channels * height * width, hidden_size),\n",
        "        nn.ReLU(),\n",
        "        nn.Linear(hidden_size, output_size)\n",
        "    )\n",
        "    \n",
        "  def forward(self, x):\n",
        "    batch_size = x.size(0)\n",
        "    x_flattened = x.view(batch_size, -1)\n",
        "    output = self.model(x_flattened)\n",
        "    return output\n",
        "  \n",
        "  \n",
        "class FashionMNISTProcessedDataset(Dataset):\n",
        "  def __init__(self, root, train=True):\n",
        "    self.data = datasets.FashionMNIST(root, train=train, \n",
        "                                      transform=transforms.ToTensor(),\n",
        "                                      download=True)\n",
        "    \n",
        "  def __getitem__(self, i):\n",
        "    x, y = self.data[i]\n",
        "    y_out = torch.eye(10)[y]\n",
        "    return x, y_out\n",
        "  \n",
        "  def __len__(self):\n",
        "    return 10#len(self.data)\n",
        " \n",
        "\n",
        "  \n",
        "class Trainer:\n",
        "  def __init__(self):\n",
        "    self.train_dataset = FashionMNISTProcessedDataset('/tmp/fashionmnist')\n",
        "    self.train_dataloader = DataLoader(self.train_dataset, batch_size=10, pin_memory=True)\n",
        "    \n",
        "    self.test_dataset = FashionMNISTProcessedDataset('/tmp/fashionmnist', train=False)\n",
        "    self.test_dataloader = DataLoader(self.test_dataset, batch_size=10, pin_memory=True)\n",
        "    \n",
        "    self.model = MyNetwork(self.train_dataset).cuda()\n",
        "    self.optimizer = optim.SGD(self.model.parameters(), lr=0.0001)\n",
        "    self.criterion = nn.MSELoss()\n",
        "    self.training_losses = []\n",
        "    self.test_losses = []\n",
        "    \n",
        "    self.init_plotter()\n",
        "    \n",
        "  def train(self, epochs=2000):\n",
        "    train_status_bar = tqdm(total=len(self.train_dataloader)*epochs, position=0)\n",
        "    self.test_counter = 0\n",
        "    for epoch in range(epochs):\n",
        "      for x, y_true in self.train_dataloader:\n",
        "        # Convert to cuda\n",
        "        x, y_true = x.cuda(async=True), y_true.cuda(async=True)\n",
        "\n",
        "        # Zero out the gradient\n",
        "        self.optimizer.zero_grad()\n",
        "\n",
        "        # Get estimate\n",
        "        y_estimate = self.model(x)\n",
        "\n",
        "        loss = self.criterion(y_estimate, y_true)\n",
        "        self.training_losses.append(loss.item())\n",
        "        train_status_bar.set_description('loss={:.4f}'.format(loss.item()))\n",
        "        train_status_bar.update(1)\n",
        "          \n",
        "        loss.backward()\n",
        "        self.optimizer.step()\n",
        "      self.test()\n",
        "    train_status_bar.close()\n",
        "    self.plot_losses()\n",
        "      \n",
        "  def test(self):\n",
        "    for x, y_true in self.test_dataloader:\n",
        "        # Convert to cuda\n",
        "        x, y_true = x.cuda(async=True), y_true.cuda(async=True)\n",
        "\n",
        "        # Get estimate\n",
        "        y_estimate = self.model(x)\n",
        "        loss = self.criterion(y_estimate, y_true)\n",
        "        self.test_losses.append(loss.item())\n",
        "  \n",
        "  def init_plotter(self):\n",
        "    self.figure, self.ax = plt.subplots()\n",
        "    self.figure.suptitle('Network Results')\n",
        "    plt.xlabel('Time (steps)')\n",
        "    plt.ylabel('Loss')\n",
        "    \n",
        "  def plot_losses(self):\n",
        "    self.ax.plot(self.training_losses, label='Train')\n",
        "    self.ax.plot(self.test_losses, label='Test')\n",
        "    self.ax.legend()\n",
        "    plt.show()\n",
        "  \n",
        "trainer = Trainer()\n",
        "trainer.train()\n",
        "trainer.test()"
      ],
      "execution_count": 44,
      "outputs": [
        {
          "output_type": "stream",
          "text": [
            "loss=0.0956: 100%|██████████| 2000/2000 [00:28<00:00, 69.23it/s]\n"
          ],
          "name": "stderr"
        },
        {
          "output_type": "display_data",
          "data": {
            "image/png": "[encoded data removed]",
            "text/plain": [
              "<matplotlib.figure.Figure at 0x7f9fcd5ad908>"
            ]
          },
          "metadata": {
            "tags": []
          }
        }
      ]
    },
    {
      "metadata": {
        "id": "s4n7v6a-tFaz",
        "colab_type": "code",
        "colab": {}
      },
      "cell_type": "code",
      "source": [
        ""
      ],
      "execution_count": 0,
      "outputs": []
    }
  ]
}